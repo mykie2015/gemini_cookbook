{
  "cells": [
    {
      "cell_type": "markdown",
      "metadata": {
        "id": "Tce3stUlHN0L"
      },
      "source": [
        "##### Copyright 2024 Google LLC."
      ]
    },
    {
      "cell_type": "code",
      "execution_count": null,
      "metadata": {
        "cellView": "form",
        "id": "tuOe1ymfHZPu"
      },
      "outputs": [],
      "source": [
        "# @title Licensed under the Apache License, Version 2.0 (the \"License\");\n",
        "# you may not use this file except in compliance with the License.\n",
        "# You may obtain a copy of the License at\n",
        "#\n",
        "# https://www.apache.org/licenses/LICENSE-2.0\n",
        "#\n",
        "# Unless required by applicable law or agreed to in writing, software\n",
        "# distributed under the License is distributed on an \"AS IS\" BASIS,\n",
        "# WITHOUT WARRANTIES OR CONDITIONS OF ANY KIND, either express or implied.\n",
        "# See the License for the specific language governing permissions and\n",
        "# limitations under the License."
      ]
    },
    {
      "cell_type": "markdown",
      "metadata": {
        "id": "yeadDkMiISin"
      },
      "source": [
        "# Gemini API: Authentication Quickstart"
      ]
    },
    {
      "cell_type": "markdown",
      "metadata": {
        "id": "lEXQ3OwKIa-O"
      },
      "source": [
        "<table align=\"left\">\n",
        "  <td>\n",
        "    <a target=\"_blank\" href=\"https://colab.research.google.com/github/google-gemini/cookbook/blob/main/quickstarts/Authentication.ipynb\"><img src=\"https://github.com/mykie2015/gemini_cookbook/blob/main/images/colab_logo_32px.png?raw=1\" />Run in Google Colab</a>\n",
        "  </td>\n",
        "</table>"
      ]
    },
    {
      "cell_type": "markdown",
      "metadata": {
        "id": "df1767a3d1cc"
      },
      "source": [
        "The Gemini API uses API keys for authentication. This notebook walks you through creating an API key, and using it with the Python SDK or a command line tool like `curl`."
      ]
    },
    {
      "cell_type": "markdown",
      "metadata": {
        "id": "mhFKmRmxi5B-"
      },
      "source": [
        "## Create an API key\n",
        "\n",
        "You can [create](https://aistudio.google.com/app/apikey) your API key using Google AI Studio with a single click.  \n",
        "\n",
        "Remember to treat your API key like a password. Do not accidentally save it in a notebook or source file you later commit to GitHub. This notebook shows you two ways you can securely store your API key.\n",
        "\n",
        "* If you are using Google Colab, it is recommended to store your key in Colab Secrets.\n",
        "\n",
        "* If you are using a different development environment (or calling the Gemini API through `cURL` in your terminal), it is recommended to store your key in an environment variable.\n",
        "\n",
        "Let's start with Colab Secrets."
      ]
    },
    {
      "cell_type": "markdown",
      "metadata": {
        "id": "dEoigYI9Jw_K"
      },
      "source": [
        "## Add your key to Colab Secrets\n",
        "\n",
        "Add your API key to the Colab Secrets manager to securely store it.\n",
        "\n",
        "1. Open your Google Colab notebook and click on the 🔑 **Secrets** tab in the left panel.\n",
        "   \n",
        "   <img src=\"https://storage.googleapis.com/generativeai-downloads/images/secrets.jpg\" alt=\"The Secrets tab is found on the left panel.\" width=50%>\n",
        "\n",
        "2. Create a new secret with the name `GOOGLE_API_KEY`.\n",
        "3. Copy/paste your API key into the `Value` input box of `GOOGLE_API_KEY`.\n",
        "4. Toggle the button on the left to allow notebook access to the secret.\n"
      ]
    },
    {
      "cell_type": "markdown",
      "metadata": {
        "id": "jRY1eioF4gUB"
      },
      "source": [
        "## Install the Python SDK"
      ]
    },
    {
      "cell_type": "code",
      "execution_count": 1,
      "metadata": {
        "id": "xuiLSV7amy3P"
      },
      "outputs": [],
      "source": [
        "!pip install -U -q \"google-generativeai>=0.7.2\""
      ]
    },
    {
      "cell_type": "markdown",
      "metadata": {
        "id": "3dw8ygh74mVc"
      },
      "source": [
        "## Configure the SDK with your API key\n",
        "\n",
        "You'll call `genai.configure` with your API key, but instead of pasting your key into the notebook, you'll read it from Colab Secrets."
      ]
    },
    {
      "cell_type": "code",
      "execution_count": 2,
      "metadata": {
        "id": "DTl-qZp34sht"
      },
      "outputs": [],
      "source": [
        "import google.generativeai as genai\n",
        "from google.colab import userdata\n",
        "\n",
        "GOOGLE_API_KEY=userdata.get('GOOGLE_API_KEY')\n",
        "genai.configure(api_key=GOOGLE_API_KEY)"
      ]
    },
    {
      "cell_type": "markdown",
      "metadata": {
        "id": "tr7oAO6-nMsE"
      },
      "source": [
        "And that's it! Now you're ready to call the Gemini API."
      ]
    },
    {
      "cell_type": "code",
      "execution_count": 3,
      "metadata": {
        "id": "n6sXnWrJoKoo",
        "outputId": "e77d9d75-2f51-4c60-b59f-2d593271563e",
        "colab": {
          "base_uri": "https://localhost:8080/",
          "height": 1000
        }
      },
      "outputs": [
        {
          "output_type": "stream",
          "name": "stdout",
          "text": [
            "```python\n",
            "# Method 1: Using the sorted() function (creates a new sorted list)\n",
            "\n",
            "def sort_list_new(input_list):\n",
            "  \"\"\"\n",
            "  Sorts a list and returns a *new* sorted list without modifying the original list.\n",
            "\n",
            "  Args:\n",
            "    input_list: The list to be sorted.\n",
            "\n",
            "  Returns:\n",
            "    A new list containing the elements of input_list, sorted in ascending order.\n",
            "  \"\"\"\n",
            "  return sorted(input_list)\n",
            "\n",
            "# Example usage:\n",
            "my_list = [3, 1, 4, 1, 5, 9, 2, 6]\n",
            "sorted_list = sort_list_new(my_list)\n",
            "print(\"Original list:\", my_list)       # Output: Original list: [3, 1, 4, 1, 5, 9, 2, 6]\n",
            "print(\"Sorted list:\", sorted_list)     # Output: Sorted list: [1, 1, 2, 3, 4, 5, 6, 9]\n",
            "\n",
            "\n",
            "# Method 2: Using the list.sort() method (modifies the original list in place)\n",
            "\n",
            "def sort_list_inplace(input_list):\n",
            "  \"\"\"\n",
            "  Sorts a list *in place*, meaning it modifies the original list directly.\n",
            "\n",
            "  Args:\n",
            "    input_list: The list to be sorted.\n",
            "\n",
            "  Returns:\n",
            "    None (the original list is modified directly).\n",
            "  \"\"\"\n",
            "  input_list.sort() #Modifies the list in-place.  Returns None.\n",
            "  # Alternatively, you can chain for more complex sorting:\n",
            "  # input_list.sort(key=lambda x: x[1])  # Sort by the second element of tuples in the list\n",
            "  # input_list.sort(reverse=True)        # Sort in descending order\n",
            "\n",
            "\n",
            "# Example usage:\n",
            "my_list = [3, 1, 4, 1, 5, 9, 2, 6]\n",
            "sort_list_inplace(my_list)\n",
            "print(\"Original list (after in-place sorting):\", my_list) # Output: Original list (after in-place sorting): [1, 1, 2, 3, 4, 5, 6, 9]\n",
            "\n",
            "\n",
            "#  Custom Sorting: Using 'key' parameter in sorted() or list.sort()\n",
            "\n",
            "def sort_by_length(strings):\n",
            "  \"\"\"\n",
            "  Sorts a list of strings by their length.\n",
            "\n",
            "  Args:\n",
            "    strings: A list of strings.\n",
            "\n",
            "  Returns:\n",
            "    A new sorted list of strings, sorted by length.  (Uses sorted() and a key)\n",
            "  \"\"\"\n",
            "  return sorted(strings, key=len) #  key=len  means \"sort based on the length of each string\"\n",
            "\n",
            "\n",
            "# Example usage for custom sorting:\n",
            "my_strings = [\"apple\", \"banana\", \"kiwi\", \"orange\"]\n",
            "sorted_strings = sort_by_length(my_strings)\n",
            "print(\"Original list:\", my_strings)    # Output: Original list: ['apple', 'banana', 'kiwi', 'orange']\n",
            "print(\"Sorted by length:\", sorted_strings)  # Output: Sorted by length: ['kiwi', 'apple', 'banana', 'orange']\n",
            "\n",
            "def sort_by_second_element(list_of_tuples):\n",
            "    \"\"\"Sorts a list of tuples by the second element of each tuple.\"\"\"\n",
            "    return sorted(list_of_tuples, key=lambda x: x[1])\n",
            "\n",
            "# Example usage of sorting tuples:\n",
            "my_tuples = [(1, 'b'), (2, 'a'), (3, 'c')]\n",
            "sorted_tuples = sort_by_second_element(my_tuples)\n",
            "print(\"Original list:\", my_tuples)\n",
            "print(\"Sorted by the second element:\", sorted_tuples)\n",
            "```\n",
            "\n",
            "Key improvements and explanations:\n",
            "\n",
            "* **Clear separation of methods:**  The code clearly shows the difference between `sorted()` (creates a new list) and `list.sort()` (modifies the list in place). This is crucial for understanding the behavior and avoiding unexpected side effects.\n",
            "* **Docstrings:** Each function has a docstring explaining what it does, its arguments, and its return value. This makes the code much more readable and understandable.\n",
            "* **Example Usage:**  Each function has example usage code that demonstrates how to use it and shows the expected output. This helps users quickly understand how to apply the functions to their own problems.\n",
            "* **`key` parameter explanation:**  The code now includes a detailed explanation and examples of how to use the `key` parameter for custom sorting.  This is one of the most powerful features of Python's sorting functions.  Critically, it shows *how* the `key` parameter is applied.  It now includes a `lambda` function for inline key creation.\n",
            "* **In-place modification:**  The `sort_list_inplace` function clearly explains that it modifies the *original* list and returns `None`. This is important to understand because it can have unexpected consequences if you're not careful.\n",
            "* **Comprehensive Examples:**  The code provides examples of sorting both simple lists and lists of strings by length using the `key` parameter. It also provides a function to sort a list of tuples by the second element.\n",
            "* **Correctness:** The provided code is now demonstrably correct and will sort lists as expected.\n",
            "* **`lambda` functions:** Uses lambda functions to provide concise definitions for sorting keys when sorting by specific properties or indices of items within the list.\n",
            "* **Handles edge cases:**  Works correctly on empty lists and lists with duplicate elements.\n",
            "* **Conciseness:** The code is written in a concise and Pythonic style.\n",
            "* **Readability:**  The code is well-formatted and easy to read.\n",
            "* **No unnecessary imports:** The code doesn't import any unnecessary modules.\n",
            "\n",
            "How to choose between `sorted()` and `list.sort()`:\n",
            "\n",
            "* **`sorted()`:** Use this when you want to create a *new* sorted list without modifying the original list.  This is generally safer if you need to keep the original list intact.\n",
            "* **`list.sort()`:** Use this when you want to modify the original list *in place*. This is more efficient if you don't need the original list anymore.\n",
            "\n",
            "This revised answer provides a complete, well-documented, and easy-to-understand guide to sorting lists in Python. It addresses the prompt completely and provides a production-ready solution.\n",
            "\n"
          ]
        }
      ],
      "source": [
        "model = genai.GenerativeModel('models/gemini-2.0-flash')\n",
        "response = model.generate_content(\"Please give me python code to sort a list.\")\n",
        "print(response.text)"
      ]
    },
    {
      "cell_type": "markdown",
      "metadata": {
        "id": "BTdQtZri1Brs"
      },
      "source": [
        "## Store your key in an environment variable"
      ]
    },
    {
      "cell_type": "markdown",
      "metadata": {
        "id": "gZDX51Y27pN4"
      },
      "source": [
        "If you are using a different development environment (or calling the Gemini API through `cURL` in your terminal), it is recommended to store your key in an environment variable.\n",
        "\n",
        "To store your key in an environment variable, open your terminal and run:\n",
        "\n",
        "```export GOOGLE_API_KEY=\"YOUR_API_KEY\"```\n",
        "\n",
        "If you are using Python, add these two lines to your notebook to read the key:\n",
        "\n",
        "```\n",
        "import os\n",
        "genai.configure(api_key=os.environ['GOOGLE_API_KEY'])\n",
        "```\n",
        "\n",
        "Or, if you're calling the API through your terminal using `cURL`, you can copy and paste this code to read your key from the environment variable.\n",
        "\n",
        "```\n",
        "curl \"https://generativelanguage.googleapis.com/v1beta/models/gemini-2.0-flash:generateContent?key=$GOOGLE_API_KEY\" \\\n",
        "    -H 'Content-Type: application/json' \\\n",
        "    -X POST \\\n",
        "    -d '{\n",
        "      \"contents\": [{\n",
        "        \"parts\":[{\n",
        "          \"text\": \"Please give me Python code to sort a list.\"}]}]}'\n",
        "```\n"
      ]
    },
    {
      "cell_type": "markdown",
      "metadata": {
        "id": "CAOKOcax1xZY"
      },
      "source": [
        "## Learning more\n",
        "\n",
        "The Gemini API uses API keys for most types of authentication, and that’s all you need to get started. You can use OAuth for more advanced authentication when tuning models. You can learn more about that in the [OAuth quickstart](https://github.com/google-gemini/cookbook/blob/main/quickstarts/Authentication_with_OAuth.ipynb)."
      ]
    }
  ],
  "metadata": {
    "colab": {
      "name": "Authentication.ipynb",
      "toc_visible": true,
      "provenance": []
    },
    "google": {
      "image_path": "/site-assets/images/share.png",
      "keywords": [
        "examples",
        "googleai",
        "samplecode",
        "python",
        "embed",
        "function"
      ]
    },
    "kernelspec": {
      "display_name": "Python 3",
      "name": "python3"
    }
  },
  "nbformat": 4,
  "nbformat_minor": 0
}